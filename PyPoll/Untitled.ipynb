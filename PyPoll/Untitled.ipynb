{
 "cells": [
  {
   "cell_type": "code",
   "execution_count": 52,
   "metadata": {},
   "outputs": [],
   "source": [
    "#Modules\n",
    "import os\n",
    "import csv\n",
    "import pandas as pd\n",
    "\n",
    "# Get data file needed for analysis\n",
    "election_data_path = \"./Resources/election_data.csv\"\n",
    "\n",
    "\n",
    "#Store data into a pandas data frame\n",
    "election_file_df = pd.read_csv(election_data_path)\n"
   ]
  },
  {
   "cell_type": "code",
   "execution_count": 53,
   "metadata": {},
   "outputs": [],
   "source": [
    "#Create variables to store values needed for summary\n",
    "total_votes = 0\n",
    "khan_votes = 0\n",
    "correy_votes = 0\n",
    "li_votes = 0\n",
    "tooley_votes = 0\n",
    "\n",
    "#Get unique candidate names\n",
    "candidates = [election_file_df[\"Candidate\"].unique()]\n",
    "\n",
    "\n",
    "# Open the file above and store contents \n",
    "with open(election_data_path) as pollfile:\n",
    "    csvreader = csv.reader(pollfile, delimiter=\",\")\n",
    "    \n",
    "    #The file has a header row so store this seperately from the data\n",
    "    csv_header = next(csvreader)\n",
    "    \n",
    "    for row in csvreader:\n",
    "        total_votes = total_votes + 1\n",
    "        \n",
    "        if row[2] == 'Khan':\n",
    "            khan_votes = khan_votes + 1\n",
    "        elif(row[2] == 'Correy'):\n",
    "            correy_votes = correy_votes + 1\n",
    "        elif(row[2] == 'Li'):\n",
    "            li_votes = li_votes + 1\n",
    "        elif(row[2] == \"O'Tooley\"):\n",
    "            tooley_votes = tooley_votes + 1\n",
    "\n",
    "#Store unique candidates and total votes in a new data frame\n",
    "summary_df = pd.DataFrame({\"Candidates\": [\"Khan\", \"Correy\", \"Li\", \"O'Tooley\"],\n",
    "                          \"Total_Votes\": [khan_votes, correy_votes, li_votes, tooley_votes]})\n",
    "\n",
    "#Format percentages\n",
    "khan_percentage = \"{:.3%}\".format(khan_votes/total_votes)\n",
    "correy_percentage = \"{:.3%}\".format(correy_votes/total_votes)\n",
    "li_percentage = \"{:.3%}\".format(li_votes/total_votes)\n",
    "tooley_percentage = \"{:.3%}\".format(tooley_votes/total_votes)\n",
    "\n",
    "\n",
    "        "
   ]
  },
  {
   "cell_type": "code",
   "execution_count": 54,
   "metadata": {},
   "outputs": [],
   "source": [
    "#Find the max number of votes\n",
    "most_votes = summary_df[\"Total_Votes\"].max()\n"
   ]
  },
  {
   "cell_type": "code",
   "execution_count": 55,
   "metadata": {},
   "outputs": [],
   "source": [
    "#Find the name of the candidate with the max votes\n",
    "get_winner = summary_df.loc[summary_df[\"Total_Votes\"] == most_votes, [\n",
    "    \"Candidates\"]]\n",
    "winner = get_winner[\"Candidates\"]\n",
    "\n"
   ]
  },
  {
   "cell_type": "code",
   "execution_count": 56,
   "metadata": {},
   "outputs": [
    {
     "name": "stdout",
     "output_type": "stream",
     "text": [
      "Election Results\n",
      "-----------------\n",
      "Total Votes: 3521001\n",
      "-----------------\n",
      "Khan 63.000% (2218231)\n",
      "Correy 20.000% (704200)\n",
      "Li 14.000% (492940)\n",
      "O'Tooley 3.000% (105630)\n",
      "-----------------\n",
      "Winner 0    Khan\n",
      "Name: Candidates, dtype: object\n"
     ]
    }
   ],
   "source": [
    "#Print summary\n",
    "print(\"Election Results\")\n",
    "print(\"-----------------\")\n",
    "print(f\"Total Votes: {total_votes}\")\n",
    "print(\"-----------------\")\n",
    "print(f\"Khan {khan_percentage} ({khan_votes})\")\n",
    "print(f\"Correy {correy_percentage} ({correy_votes})\")\n",
    "print(f\"Li {li_percentage} ({li_votes})\")\n",
    "print(f\"O'Tooley {tooley_percentage} ({tooley_votes})\")\n",
    "print(\"-----------------\")\n",
    "print(f\"Winner {winner}\")"
   ]
  },
  {
   "cell_type": "code",
   "execution_count": null,
   "metadata": {},
   "outputs": [],
   "source": []
  },
  {
   "cell_type": "code",
   "execution_count": null,
   "metadata": {},
   "outputs": [],
   "source": []
  },
  {
   "cell_type": "code",
   "execution_count": null,
   "metadata": {},
   "outputs": [],
   "source": []
  }
 ],
 "metadata": {
  "kernelspec": {
   "display_name": "Python 3",
   "language": "python",
   "name": "python3"
  },
  "language_info": {
   "codemirror_mode": {
    "name": "ipython",
    "version": 3
   },
   "file_extension": ".py",
   "mimetype": "text/x-python",
   "name": "python",
   "nbconvert_exporter": "python",
   "pygments_lexer": "ipython3",
   "version": "3.8.5"
  }
 },
 "nbformat": 4,
 "nbformat_minor": 4
}
