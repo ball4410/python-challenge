{
 "cells": [
  {
   "cell_type": "code",
   "execution_count": 26,
   "metadata": {},
   "outputs": [],
   "source": [
    "#Modules\n",
    "import os\n",
    "import csv\n",
    "\n",
    "# Get data file needed for analysis\n",
    "budget_path = \"./Resources/budget_data.csv\"\n"
   ]
  },
  {
   "cell_type": "code",
   "execution_count": 27,
   "metadata": {},
   "outputs": [],
   "source": [
    "#Create array to store months and loss/profits for our summary\n",
    "number_of_months = []\n",
    "net_total = []\n",
    "changes = []\n",
    "\n",
    "# Open the file above and store contents \n",
    "with open(budget_path) as budgetfile:\n",
    "    csvreader = csv.reader(budgetfile, delimiter=\",\")\n",
    "    #print(csvreader)\n",
    "    \n",
    "    #The file has a header row so store this seperately from the data\n",
    "    csv_header = next(csvreader)\n",
    "    \n",
    "    for row in csvreader:\n",
    "        number_of_months.append(row[0])\n",
    "        net_total.append(int(row[1]))\n",
    "        #print(row[1])\n",
    "        \n",
    "        \n",
    "        \n",
    "    \n",
    "    "
   ]
  },
  {
   "cell_type": "code",
   "execution_count": 28,
   "metadata": {},
   "outputs": [
    {
     "data": {
      "text/plain": [
       "38382578"
      ]
     },
     "execution_count": 28,
     "metadata": {},
     "output_type": "execute_result"
    }
   ],
   "source": [
    "#Verify results\n",
    "len(number_of_months)\n",
    "sum(net_total)\n"
   ]
  },
  {
   "cell_type": "code",
   "execution_count": 29,
   "metadata": {},
   "outputs": [],
   "source": [
    "#Store the difference for loss/profits into an array called changes\n",
    "changes = [net_total[i+1] - net_total[i] for i in range(len(number_of_months) - 1)] \n",
    "\n",
    "#Verify Result\n",
    "#sum(changes)/len(changes)\n",
    "#changes"
   ]
  },
  {
   "cell_type": "code",
   "execution_count": 30,
   "metadata": {},
   "outputs": [],
   "source": [
    "#Find greatest increase profit\n",
    "max_change = max(changes)\n",
    "\n",
    "#Find greatest descrease loss\n",
    "min_change = min(changes)\n"
   ]
  },
  {
   "cell_type": "code",
   "execution_count": 31,
   "metadata": {},
   "outputs": [],
   "source": [
    "#Find month for greatest increase and decrease\n",
    "\n",
    "index = 1\n",
    "greatest_increase_month = 'Feb-2012'\n",
    "greatest_decrease_month = 'Feb-2012'\n",
    "\n",
    "for change in changes:\n",
    "    if(change == max_change):\n",
    "        #print(number_of_months[index])\n",
    "        greatest_increase_month = number_of_months[index]\n",
    "        \n",
    "    else:\n",
    "        index = index+ 1\n",
    "        \n",
    "index = 1      \n",
    "for change in changes:\n",
    "    if(change == min_change):\n",
    "        #print(number_of_months[index])\n",
    "        greatest_decrease_month = number_of_months[index]\n",
    "        \n",
    "    else:\n",
    "        index = index+ 1"
   ]
  },
  {
   "cell_type": "code",
   "execution_count": 32,
   "metadata": {},
   "outputs": [
    {
     "name": "stdout",
     "output_type": "stream",
     "text": [
      "Financial Analysis\n",
      "------------------\n",
      "Total Months: 86\n",
      "Total: $38382578\n",
      "Average Change: -2315.1176470588234\n",
      "Greatest Increase in Profits: Feb-2012 ($1926159)\n",
      "Greatest Decrease in Profits: Sep-2013 ($-2196167)\n"
     ]
    }
   ],
   "source": [
    "#Print summary\n",
    "print(\"Financial Analysis\")\n",
    "print(\"------------------\")\n",
    "print(f\"Total Months: {len(number_of_months)}\")\n",
    "print(f\"Total: ${sum(net_total)}\")\n",
    "print(f\"Average Change: {sum(changes)/len(changes)}\")\n",
    "print(f\"Greatest Increase in Profits: {greatest_increase_month} (${max_change})\")\n",
    "print(f\"Greatest Decrease in Profits: {greatest_decrease_month} (${min_change})\")"
   ]
  },
  {
   "cell_type": "code",
   "execution_count": null,
   "metadata": {},
   "outputs": [],
   "source": []
  }
 ],
 "metadata": {
  "kernelspec": {
   "display_name": "Python 3",
   "language": "python",
   "name": "python3"
  },
  "language_info": {
   "codemirror_mode": {
    "name": "ipython",
    "version": 3
   },
   "file_extension": ".py",
   "mimetype": "text/x-python",
   "name": "python",
   "nbconvert_exporter": "python",
   "pygments_lexer": "ipython3",
   "version": "3.8.5"
  }
 },
 "nbformat": 4,
 "nbformat_minor": 4
}
